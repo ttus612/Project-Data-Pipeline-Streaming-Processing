{
 "cells": [
  {
   "cell_type": "code",
   "execution_count": 14,
   "metadata": {},
   "outputs": [],
   "source": [
    "from datetime import datetime, timedelta\n",
    "import time\n",
    "import random\n",
    "import pandas as pd\n",
    "pd.set_option(\"display.max_rows\", None, \"display.max_columns\", None)\n",
    "import datetime\n",
    "import mysql.connector\n",
    "from kafka import KafkaProducer\n",
    "import json\n",
    "from cassandra.cqlengine.models import  Model\n",
    "import cassandra"
   ]
  },
  {
   "cell_type": "code",
   "execution_count": 15,
   "metadata": {},
   "outputs": [],
   "source": [
    "host = 'localhost'\n",
    "port = '3306'\n",
    "db_name = 'Data_Warehouse'\n",
    "user = 'root'\n",
    "password = '1'\n",
    "url = 'jdbc:mysql://' + host + ':' + port + '/' + db_name\n",
    "driver = \"com.mysql.cj.jdbc.Driver\"\n",
    "\n",
    "kafka_bootstrap_severs = \"localhost:9092\"\n",
    "producer = KafkaProducer(bootstrap_servers= kafka_bootstrap_severs, value_serializer=lambda v: json.dumps(v).encode('utf-8'))\n",
    "kafka_topic = \"test2\"\n"
   ]
  },
  {
   "cell_type": "code",
   "execution_count": 16,
   "metadata": {},
   "outputs": [],
   "source": [
    "\n",
    "def get_data_from_job(user,password,host,database):\n",
    "    cnx = mysql.connector.connect(user=user, password=password,\n",
    "                                         host=host,\n",
    "                                      database=database)\n",
    "    query = \"\"\"select id as job_id,campaign_id , group_id , company_id from job\"\"\"\n",
    "    mysql_data = pd.read_sql(query,cnx)\n",
    "    return mysql_data\n",
    "\n",
    "def get_data_from_publisher(user,password,host,database):\n",
    "    cnx = mysql.connector.connect(user=user, password=password,\n",
    "                                         host=host,\n",
    "                                      database=database)\n",
    "    query = \"\"\"select distinct(id) as publisher_id from master_publisher\"\"\"\n",
    "    mysql_data = pd.read_sql(query,cnx)\n",
    "    return mysql_data\n",
    "\n",
    "\n",
    "def generating_dummy_data(n_records):\n",
    "    publisher = get_data_from_publisher(user,password,host,db_name)\n",
    "    publisher = publisher['publisher_id'].to_list()\n",
    "    jobs_data = get_data_from_job(user,password,host,db_name)\n",
    "    job_list = jobs_data['job_id'].to_list()\n",
    "    campaign_list = jobs_data['campaign_id'].to_list()\n",
    "    company_list = jobs_data['company_id'].to_list()\n",
    "    group_list = jobs_data[jobs_data['group_id'].notnull()]['group_id'].astype(int).to_list()\n",
    "    i = 0 \n",
    "    fake_records = n_records\n",
    "    while i <= fake_records:\n",
    "        create_time = str(cassandra.util.uuid_from_time(datetime.datetime.now()))\n",
    "        bid = random.randint(0,1)\n",
    "        interact = ['click','conversion','qualified','unqualified']\n",
    "        custom_track = random.choices(interact,weights=(70,10,10,10))[0]\n",
    "        job_id = random.choice(job_list)\n",
    "        publisher_id = random.choice(publisher)\n",
    "        group_id = random.choice(group_list)\n",
    "        campaign_id = random.choice(campaign_list)\n",
    "        ts = datetime.datetime.now().strftime('%Y-%m-%d %H:%M:%S')\n",
    "        # sql = \"\"\" INSERT INTO tracking (create_time,bid,campaign_id,custom_track,group_id,job_id,publisher_id,ts) VALUES ('{}',{},{},'{}',{},{},{},'{}')\"\"\".format(create_time,bid,campaign_id,custom_track,group_id,job_id,publisher_id,ts)\n",
    "        data = {\n",
    "            \"create_time\": create_time,\n",
    "            \"bid\":bid,\n",
    "            \"campaign_id\":campaign_id,\n",
    "            \"custom_track\":custom_track,\n",
    "            \"group_id\":group_id,\n",
    "            \"job_id\":job_id,\n",
    "            \"publisher_id\":publisher_id,\n",
    "            \"ts\":ts,\n",
    "        }\n",
    "        print(data)\n",
    "        producer.send(kafka_topic, value=data)\n",
    "        # print(sql)\n",
    "        # session.execute(sql)\n",
    "        i+=1 \n",
    "    return print(\"Data Generated Successfully\")\n"
   ]
  },
  {
   "cell_type": "code",
   "execution_count": 17,
   "metadata": {},
   "outputs": [
    {
     "name": "stderr",
     "output_type": "stream",
     "text": [
      "C:\\Users\\ACER\\AppData\\Local\\Temp\\ipykernel_16640\\2486201334.py:14: UserWarning: pandas only supports SQLAlchemy connectable (engine/connection) or database string URI or sqlite3 DBAPI2 connection. Other DBAPI2 objects are not tested. Please consider using SQLAlchemy.\n",
      "  mysql_data = pd.read_sql(query,cnx)\n",
      "C:\\Users\\ACER\\AppData\\Local\\Temp\\ipykernel_16640\\2486201334.py:6: UserWarning: pandas only supports SQLAlchemy connectable (engine/connection) or database string URI or sqlite3 DBAPI2 connection. Other DBAPI2 objects are not tested. Please consider using SQLAlchemy.\n",
      "  mysql_data = pd.read_sql(query,cnx)\n"
     ]
    },
    {
     "name": "stdout",
     "output_type": "stream",
     "text": [
      "{'create_time': '3362bc4a-30d3-11ef-b294-46d5fe7aeebf', 'bid': 1, 'campaign_id': 223, 'custom_track': 'click', 'group_id': 30, 'job_id': 1840, 'publisher_id': 13, 'ts': '2024-06-22 20:08:33'}\n",
      "{'create_time': '3362e38c-30d3-11ef-8a9f-b2cc74031a55', 'bid': 1, 'campaign_id': 144, 'custom_track': 'click', 'group_id': 27, 'job_id': 807, 'publisher_id': 22, 'ts': '2024-06-22 20:08:33'}\n",
      "{'create_time': '3363317a-30d3-11ef-b04e-7b23c1af7dc2', 'bid': 0, 'campaign_id': 61, 'custom_track': 'conversion', 'group_id': 22, 'job_id': 1587, 'publisher_id': 15, 'ts': '2024-06-22 20:08:33'}\n",
      "{'create_time': '3363317a-30d3-11ef-93fb-15c2551c8ea3', 'bid': 1, 'campaign_id': 12, 'custom_track': 'unqualified', 'group_id': 16, 'job_id': 261, 'publisher_id': 31, 'ts': '2024-06-22 20:08:33'}\n",
      "{'create_time': '3363317a-30d3-11ef-a59a-02babc643d29', 'bid': 1, 'campaign_id': 5, 'custom_track': 'click', 'group_id': 10, 'job_id': 1375, 'publisher_id': 36, 'ts': '2024-06-22 20:08:33'}\n",
      "{'create_time': '3363317a-30d3-11ef-b99c-57946e460ee2', 'bid': 0, 'campaign_id': 101, 'custom_track': 'click', 'group_id': 32, 'job_id': 355, 'publisher_id': 28, 'ts': '2024-06-22 20:08:33'}\n",
      "Data Generated Successfully\n"
     ]
    },
    {
     "name": "stderr",
     "output_type": "stream",
     "text": [
      "C:\\Users\\ACER\\AppData\\Local\\Temp\\ipykernel_16640\\2486201334.py:14: UserWarning: pandas only supports SQLAlchemy connectable (engine/connection) or database string URI or sqlite3 DBAPI2 connection. Other DBAPI2 objects are not tested. Please consider using SQLAlchemy.\n",
      "  mysql_data = pd.read_sql(query,cnx)\n",
      "C:\\Users\\ACER\\AppData\\Local\\Temp\\ipykernel_16640\\2486201334.py:6: UserWarning: pandas only supports SQLAlchemy connectable (engine/connection) or database string URI or sqlite3 DBAPI2 connection. Other DBAPI2 objects are not tested. Please consider using SQLAlchemy.\n",
      "  mysql_data = pd.read_sql(query,cnx)\n"
     ]
    },
    {
     "name": "stdout",
     "output_type": "stream",
     "text": [
      "{'create_time': '346cfede-30d3-11ef-89b2-5891dfa7fac0', 'bid': 0, 'campaign_id': 61, 'custom_track': 'click', 'group_id': 41, 'job_id': 304, 'publisher_id': 1, 'ts': '2024-06-22 20:08:34'}\n",
      "{'create_time': '346d145a-30d3-11ef-9a31-19ee26bb3d8a', 'bid': 1, 'campaign_id': 1, 'custom_track': 'qualified', 'group_id': 10, 'job_id': 1064, 'publisher_id': 15, 'ts': '2024-06-22 20:08:34'}\n",
      "{'create_time': '346d28d2-30d3-11ef-a8b4-a8153ecc7400', 'bid': 1, 'campaign_id': 59, 'custom_track': 'qualified', 'group_id': 25, 'job_id': 739, 'publisher_id': 11, 'ts': '2024-06-22 20:08:34'}\n",
      "Data Generated Successfully\n"
     ]
    },
    {
     "name": "stderr",
     "output_type": "stream",
     "text": [
      "C:\\Users\\ACER\\AppData\\Local\\Temp\\ipykernel_16640\\2486201334.py:14: UserWarning: pandas only supports SQLAlchemy connectable (engine/connection) or database string URI or sqlite3 DBAPI2 connection. Other DBAPI2 objects are not tested. Please consider using SQLAlchemy.\n",
      "  mysql_data = pd.read_sql(query,cnx)\n",
      "C:\\Users\\ACER\\AppData\\Local\\Temp\\ipykernel_16640\\2486201334.py:6: UserWarning: pandas only supports SQLAlchemy connectable (engine/connection) or database string URI or sqlite3 DBAPI2 connection. Other DBAPI2 objects are not tested. Please consider using SQLAlchemy.\n",
      "  mysql_data = pd.read_sql(query,cnx)\n"
     ]
    },
    {
     "name": "stdout",
     "output_type": "stream",
     "text": [
      "{'create_time': '35773c54-30d3-11ef-baf7-7a4dcfef0ff2', 'bid': 0, 'campaign_id': 4, 'custom_track': 'click', 'group_id': 10, 'job_id': 1578, 'publisher_id': 36, 'ts': '2024-06-22 20:08:36'}\n",
      "{'create_time': '35776346-30d3-11ef-b15f-fc248f7b2824', 'bid': 0, 'campaign_id': 103, 'custom_track': 'click', 'group_id': 12, 'job_id': 419, 'publisher_id': 2, 'ts': '2024-06-22 20:08:36'}\n",
      "{'create_time': '35776346-30d3-11ef-a0ce-0dc12da69970', 'bid': 1, 'campaign_id': 48, 'custom_track': 'conversion', 'group_id': 35, 'job_id': 41, 'publisher_id': 13, 'ts': '2024-06-22 20:08:36'}\n",
      "{'create_time': '35778a6a-30d3-11ef-b916-9dedd453ef7e', 'bid': 0, 'campaign_id': 57, 'custom_track': 'click', 'group_id': 22, 'job_id': 156, 'publisher_id': 15, 'ts': '2024-06-22 20:08:36'}\n",
      "{'create_time': '35778a6a-30d3-11ef-a0ad-a3502502df63', 'bid': 1, 'campaign_id': 223, 'custom_track': 'click', 'group_id': 26, 'job_id': 947, 'publisher_id': 32, 'ts': '2024-06-22 20:08:36'}\n",
      "{'create_time': '35778a6a-30d3-11ef-8c9a-3a499035252a', 'bid': 0, 'campaign_id': 11, 'custom_track': 'click', 'group_id': 32, 'job_id': 1946, 'publisher_id': 16, 'ts': '2024-06-22 20:08:36'}\n",
      "Data Generated Successfully\n"
     ]
    },
    {
     "name": "stderr",
     "output_type": "stream",
     "text": [
      "C:\\Users\\ACER\\AppData\\Local\\Temp\\ipykernel_16640\\2486201334.py:14: UserWarning: pandas only supports SQLAlchemy connectable (engine/connection) or database string URI or sqlite3 DBAPI2 connection. Other DBAPI2 objects are not tested. Please consider using SQLAlchemy.\n",
      "  mysql_data = pd.read_sql(query,cnx)\n",
      "C:\\Users\\ACER\\AppData\\Local\\Temp\\ipykernel_16640\\2486201334.py:6: UserWarning: pandas only supports SQLAlchemy connectable (engine/connection) or database string URI or sqlite3 DBAPI2 connection. Other DBAPI2 objects are not tested. Please consider using SQLAlchemy.\n",
      "  mysql_data = pd.read_sql(query,cnx)\n"
     ]
    },
    {
     "name": "stdout",
     "output_type": "stream",
     "text": [
      "{'create_time': '369091f8-30d3-11ef-9259-91b1b7eb22f5', 'bid': 0, 'campaign_id': 9, 'custom_track': 'click', 'group_id': 35, 'job_id': 1156, 'publisher_id': 15, 'ts': '2024-06-22 20:08:38'}\n",
      "{'create_time': '3690b912-30d3-11ef-a681-55c56bd408f0', 'bid': 1, 'campaign_id': 69, 'custom_track': 'click', 'group_id': 27, 'job_id': 504, 'publisher_id': 3, 'ts': '2024-06-22 20:08:38'}\n",
      "{'create_time': '3690b912-30d3-11ef-ad1d-265109539ef4', 'bid': 1, 'campaign_id': 58, 'custom_track': 'qualified', 'group_id': 41, 'job_id': 116, 'publisher_id': 30, 'ts': '2024-06-22 20:08:38'}\n",
      "{'create_time': '3690b912-30d3-11ef-b0d8-ca4041e6e71b', 'bid': 0, 'campaign_id': 48, 'custom_track': 'conversion', 'group_id': 32, 'job_id': 2008, 'publisher_id': 31, 'ts': '2024-06-22 20:08:38'}\n",
      "Data Generated Successfully\n"
     ]
    },
    {
     "name": "stderr",
     "output_type": "stream",
     "text": [
      "C:\\Users\\ACER\\AppData\\Local\\Temp\\ipykernel_16640\\2486201334.py:14: UserWarning: pandas only supports SQLAlchemy connectable (engine/connection) or database string URI or sqlite3 DBAPI2 connection. Other DBAPI2 objects are not tested. Please consider using SQLAlchemy.\n",
      "  mysql_data = pd.read_sql(query,cnx)\n",
      "C:\\Users\\ACER\\AppData\\Local\\Temp\\ipykernel_16640\\2486201334.py:6: UserWarning: pandas only supports SQLAlchemy connectable (engine/connection) or database string URI or sqlite3 DBAPI2 connection. Other DBAPI2 objects are not tested. Please consider using SQLAlchemy.\n",
      "  mysql_data = pd.read_sql(query,cnx)\n"
     ]
    },
    {
     "name": "stdout",
     "output_type": "stream",
     "text": [
      "{'create_time': '37b06dce-30d3-11ef-8927-6b4d77bb621f', 'bid': 0, 'campaign_id': 61, 'custom_track': 'click', 'group_id': 17, 'job_id': 655, 'publisher_id': 28, 'ts': '2024-06-22 20:08:40'}\n",
      "{'create_time': '37b094b6-30d3-11ef-8883-80681473a707', 'bid': 0, 'campaign_id': 1, 'custom_track': 'click', 'group_id': 31, 'job_id': 1281, 'publisher_id': 16, 'ts': '2024-06-22 20:08:40'}\n",
      "{'create_time': '37b094b6-30d3-11ef-8312-bcc278c8cb08', 'bid': 0, 'campaign_id': 1, 'custom_track': 'click', 'group_id': 10, 'job_id': 338, 'publisher_id': 31, 'ts': '2024-06-22 20:08:40'}\n",
      "{'create_time': '37b094b6-30d3-11ef-b449-599d52200290', 'bid': 0, 'campaign_id': 48, 'custom_track': 'click', 'group_id': 10, 'job_id': 1221, 'publisher_id': 27, 'ts': '2024-06-22 20:08:40'}\n",
      "{'create_time': '37b094b6-30d3-11ef-b482-3f64eb85eb78', 'bid': 1, 'campaign_id': 10, 'custom_track': 'click', 'group_id': 32, 'job_id': 86, 'publisher_id': 1, 'ts': '2024-06-22 20:08:40'}\n",
      "Data Generated Successfully\n"
     ]
    },
    {
     "name": "stderr",
     "output_type": "stream",
     "text": [
      "C:\\Users\\ACER\\AppData\\Local\\Temp\\ipykernel_16640\\2486201334.py:14: UserWarning: pandas only supports SQLAlchemy connectable (engine/connection) or database string URI or sqlite3 DBAPI2 connection. Other DBAPI2 objects are not tested. Please consider using SQLAlchemy.\n",
      "  mysql_data = pd.read_sql(query,cnx)\n",
      "C:\\Users\\ACER\\AppData\\Local\\Temp\\ipykernel_16640\\2486201334.py:6: UserWarning: pandas only supports SQLAlchemy connectable (engine/connection) or database string URI or sqlite3 DBAPI2 connection. Other DBAPI2 objects are not tested. Please consider using SQLAlchemy.\n",
      "  mysql_data = pd.read_sql(query,cnx)\n"
     ]
    },
    {
     "name": "stdout",
     "output_type": "stream",
     "text": [
      "{'create_time': '38b8f1f0-30d3-11ef-b2f7-ef16f1a79b84', 'bid': 0, 'campaign_id': 221, 'custom_track': 'click', 'group_id': 11, 'job_id': 1499, 'publisher_id': 15, 'ts': '2024-06-22 20:08:41'}\n",
      "{'create_time': '38b918f6-30d3-11ef-9a1e-55dd052258fc', 'bid': 1, 'campaign_id': 144, 'custom_track': 'click', 'group_id': 11, 'job_id': 85, 'publisher_id': 22, 'ts': '2024-06-22 20:08:41'}\n",
      "{'create_time': '38b918f6-30d3-11ef-84c0-c04607bc5690', 'bid': 1, 'campaign_id': 4, 'custom_track': 'qualified', 'group_id': 15, 'job_id': 696, 'publisher_id': 30, 'ts': '2024-06-22 20:08:41'}\n",
      "Data Generated Successfully\n"
     ]
    },
    {
     "ename": "KeyboardInterrupt",
     "evalue": "",
     "output_type": "error",
     "traceback": [
      "\u001b[1;31m---------------------------------------------------------------------------\u001b[0m",
      "\u001b[1;31mKeyboardInterrupt\u001b[0m                         Traceback (most recent call last)",
      "Cell \u001b[1;32mIn[17], line 4\u001b[0m\n\u001b[0;32m      2\u001b[0m \u001b[38;5;28;01mwhile\u001b[39;00m status \u001b[38;5;241m==\u001b[39m \u001b[38;5;124m\"\u001b[39m\u001b[38;5;124mON\u001b[39m\u001b[38;5;124m\"\u001b[39m:\n\u001b[0;32m      3\u001b[0m     generating_dummy_data(n_records \u001b[38;5;241m=\u001b[39m random\u001b[38;5;241m.\u001b[39mrandint(\u001b[38;5;241m1\u001b[39m,\u001b[38;5;241m5\u001b[39m))\n\u001b[1;32m----> 4\u001b[0m     time\u001b[38;5;241m.\u001b[39msleep(\u001b[38;5;241m1\u001b[39m)\n\u001b[0;32m      5\u001b[0m producer\u001b[38;5;241m.\u001b[39mclose()\n",
      "\u001b[1;31mKeyboardInterrupt\u001b[0m: "
     ]
    }
   ],
   "source": [
    "status = \"ON\"\n",
    "while status == \"ON\":\n",
    "    generating_dummy_data(n_records = random.randint(1,5))\n",
    "    time.sleep(1)\n",
    "producer.close()"
   ]
  },
  {
   "cell_type": "code",
   "execution_count": null,
   "metadata": {},
   "outputs": [],
   "source": []
  }
 ],
 "metadata": {
  "kernelspec": {
   "display_name": "base",
   "language": "python",
   "name": "python3"
  },
  "language_info": {
   "codemirror_mode": {
    "name": "ipython",
    "version": 3
   },
   "file_extension": ".py",
   "mimetype": "text/x-python",
   "name": "python",
   "nbconvert_exporter": "python",
   "pygments_lexer": "ipython3",
   "version": "3.11.5"
  }
 },
 "nbformat": 4,
 "nbformat_minor": 2
}
